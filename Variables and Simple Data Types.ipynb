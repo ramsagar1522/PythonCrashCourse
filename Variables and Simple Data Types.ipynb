{
 "cells": [
  {
   "cell_type": "markdown",
   "id": "9133c884",
   "metadata": {},
   "source": [
    "# What Really Happens When You Run a Python program"
   ]
  },
  {
   "cell_type": "markdown",
   "id": "ab6ae0a0",
   "metadata": {},
   "source": [
    "When excuting the python file, your editor runs the file through `Python Interpretator` which reads through the program and determine what each word in the program means."
   ]
  },
  {
   "cell_type": "markdown",
   "id": "56ffae57",
   "metadata": {},
   "source": [
    "# Variable"
   ]
  },
  {
   "cell_type": "code",
   "execution_count": 1,
   "id": "c5d8bbbe",
   "metadata": {},
   "outputs": [
    {
     "name": "stdout",
     "output_type": "stream",
     "text": [
      "Hello Python World!!!\n"
     ]
    }
   ],
   "source": [
    "message = 'Hello Python World!!!'\n",
    "print(message)"
   ]
  },
  {
   "cell_type": "markdown",
   "id": "37884976",
   "metadata": {},
   "source": [
    "We have added a `Variable` named `message`. Every variable holds a value which is the information available with the variable."
   ]
  },
  {
   "cell_type": "markdown",
   "id": "c7be2ea6",
   "metadata": {},
   "source": [
    "## Naming and Using Variables"
   ]
  },
  {
   "cell_type": "markdown",
   "id": "53d8bc8d",
   "metadata": {},
   "source": [
    "When you’re using variables in Python, you need to adhere to a few rules\n",
    "and guidelines. Breaking some of these rules will cause errors; other guidelines just help you write code that’s easier to read and understand."
   ]
  },
  {
   "cell_type": "markdown",
   "id": "96669bb0",
   "metadata": {},
   "source": [
    "### Exercise 2.1\n",
    "Store a message in a variable, and then print that\n",
    "message"
   ]
  },
  {
   "cell_type": "code",
   "execution_count": 4,
   "id": "b666ce96",
   "metadata": {},
   "outputs": [
    {
     "name": "stdout",
     "output_type": "stream",
     "text": [
      "Hello Veer!!\n"
     ]
    }
   ],
   "source": [
    "message = 'Hello Veer!!' # stored the value to variable named message\n",
    "print(message)"
   ]
  },
  {
   "cell_type": "markdown",
   "id": "1ca3198c",
   "metadata": {},
   "source": [
    "### Exercise 2.2\n",
    "Store a message in a variable, and print that message.\n",
    "Then change the value of your variable to a new message, and print the new\n",
    "message."
   ]
  },
  {
   "cell_type": "code",
   "execution_count": 5,
   "id": "6e603d88",
   "metadata": {},
   "outputs": [
    {
     "name": "stdout",
     "output_type": "stream",
     "text": [
      "Hello Veer!!\n",
      "Hello Veer Good Morning!!!\n"
     ]
    }
   ],
   "source": [
    "message = 'Hello Veer!!'\n",
    "print(message)\n",
    "\n",
    "message = 'Hello Veer Good Morning!!!'\n",
    "print(message)"
   ]
  },
  {
   "cell_type": "markdown",
   "id": "c70d7457",
   "metadata": {},
   "source": [
    "# Strings"
   ]
  },
  {
   "cell_type": "markdown",
   "id": "6db4fa94",
   "metadata": {},
   "source": [
    "A **String** is simply a series of characters. Anything inside the quotes considered as `String`. It can be denoted with in single or double or triple quotes."
   ]
  },
  {
   "cell_type": "markdown",
   "id": "6f910197",
   "metadata": {},
   "source": [
    "### Changing Case in a String with Methods"
   ]
  },
  {
   "cell_type": "markdown",
   "id": "9ee3edc2",
   "metadata": {},
   "source": [
    "One of the simplest tasks you can do with strings is change the case of the\n",
    "words in a string."
   ]
  },
  {
   "cell_type": "code",
   "execution_count": 6,
   "id": "88a5f96e",
   "metadata": {},
   "outputs": [
    {
     "name": "stdout",
     "output_type": "stream",
     "text": [
      "Ada Lovelace!!\n"
     ]
    }
   ],
   "source": [
    "name = 'ada lovelace!!'\n",
    "print(name.title())"
   ]
  },
  {
   "cell_type": "markdown",
   "id": "79a9d2a6",
   "metadata": {},
   "source": [
    "In the above example, the lower case string was stored in the variable named `name`. The method `title()` appears in the print statement. A method is an action that tells python to perform on the piece of data."
   ]
  },
  {
   "cell_type": "code",
   "execution_count": 14,
   "id": "d545a733",
   "metadata": {},
   "outputs": [
    {
     "name": "stdout",
     "output_type": "stream",
     "text": [
      "ADA LOVELACE!!\n",
      "ada lovelace!!\n"
     ]
    }
   ],
   "source": [
    "print('{:>10}'.format(name.upper()))\n",
    "print('{:>10}'.format(name.lower()))"
   ]
  },
  {
   "cell_type": "markdown",
   "id": "6b918084",
   "metadata": {},
   "source": [
    "### Combining or Concatenating Strings"
   ]
  },
  {
   "cell_type": "markdown",
   "id": "d1c9b3c2",
   "metadata": {},
   "source": [
    "Python uses the plus symbol (+) to combine strings."
   ]
  },
  {
   "cell_type": "code",
   "execution_count": 16,
   "id": "345e05b5",
   "metadata": {},
   "outputs": [
    {
     "name": "stdout",
     "output_type": "stream",
     "text": [
      "ada lovelace\n"
     ]
    }
   ],
   "source": [
    "first_name = 'ada'\n",
    "last_name = 'lovelace'\n",
    "full_name = first_name + ' ' + last_name\n",
    "print('{}'.format(full_name))"
   ]
  },
  {
   "cell_type": "markdown",
   "id": "eb8bac23",
   "metadata": {},
   "source": [
    "This method of combining strings is called `concatenation`. You can use\n",
    "concatenation to compose complete messages using the information you’ve\n",
    "stored in a variable."
   ]
  },
  {
   "cell_type": "code",
   "execution_count": 17,
   "id": "59adb7f9",
   "metadata": {},
   "outputs": [
    {
     "name": "stdout",
     "output_type": "stream",
     "text": [
      "Hello ada lovelace!!!\n"
     ]
    }
   ],
   "source": [
    "print('Hello {}!!!'.format(full_name))"
   ]
  },
  {
   "cell_type": "markdown",
   "id": "b5db017c",
   "metadata": {},
   "source": [
    "### Adding Whitespace to Strings with Tabs or Newlines"
   ]
  },
  {
   "cell_type": "markdown",
   "id": "8e753541",
   "metadata": {},
   "source": [
    "In programming, `whitespace` refers to any nonprinting character, such as\n",
    "spaces, tabs, and end-of-line symbols. You can use whitespace to organize\n",
    "your output so it’s easier for users to read."
   ]
  },
  {
   "cell_type": "code",
   "execution_count": 18,
   "id": "3b8f10c3",
   "metadata": {},
   "outputs": [
    {
     "name": "stdout",
     "output_type": "stream",
     "text": [
      "Python\n",
      "\tPython\n"
     ]
    }
   ],
   "source": [
    "print('{}'.format('Python'))\n",
    "print('\\t{}'.format('Python'))"
   ]
  },
  {
   "cell_type": "code",
   "execution_count": 19,
   "id": "52d428ca",
   "metadata": {},
   "outputs": [
    {
     "name": "stdout",
     "output_type": "stream",
     "text": [
      "Languages:\n",
      "Python\n",
      "C\n",
      "JavaScript\n"
     ]
    }
   ],
   "source": [
    "print(\"Languages:\\n{}\\n{}\\n{}\".format('Python', 'C', 'JavaScript'))"
   ]
  },
  {
   "cell_type": "code",
   "execution_count": 20,
   "id": "9d6f650f",
   "metadata": {},
   "outputs": [
    {
     "name": "stdout",
     "output_type": "stream",
     "text": [
      "Languages:\n",
      "\tPython\n",
      "\tC\n",
      "\tJavaScript\n"
     ]
    }
   ],
   "source": [
    "print(\"Languages:\\n\\t{}\\n\\t{}\\n\\t{}\".format('Python', 'C', 'JavaScript'))"
   ]
  },
  {
   "cell_type": "markdown",
   "id": "342d82b9",
   "metadata": {},
   "source": [
    "### Stripping Whitespace"
   ]
  },
  {
   "cell_type": "markdown",
   "id": "10ab7fce",
   "metadata": {},
   "source": [
    "Extra whitespace can be confusing in your programs. To programmers\n",
    "'python' and 'python ' look pretty much the same. But to a program, they\n",
    "are two different strings. Python detects the extra space in 'python ' and\n",
    "considers it significant unless you tell it otherwise."
   ]
  },
  {
   "cell_type": "code",
   "execution_count": 25,
   "id": "7237864f",
   "metadata": {},
   "outputs": [
    {
     "data": {
      "text/plain": [
       "'Python  '"
      ]
     },
     "execution_count": 25,
     "metadata": {},
     "output_type": "execute_result"
    }
   ],
   "source": [
    "favorite_language = 'Python  '\n",
    "favorite_language"
   ]
  },
  {
   "cell_type": "code",
   "execution_count": 26,
   "id": "3acbf935",
   "metadata": {},
   "outputs": [
    {
     "data": {
      "text/plain": [
       "'Python'"
      ]
     },
     "execution_count": 26,
     "metadata": {},
     "output_type": "execute_result"
    }
   ],
   "source": [
    "favorite_language.rstrip()"
   ]
  },
  {
   "cell_type": "code",
   "execution_count": 27,
   "id": "3f817a8a",
   "metadata": {},
   "outputs": [
    {
     "data": {
      "text/plain": [
       "'Python  '"
      ]
     },
     "execution_count": 27,
     "metadata": {},
     "output_type": "execute_result"
    }
   ],
   "source": [
    "favorite_language"
   ]
  },
  {
   "cell_type": "markdown",
   "id": "56f35248",
   "metadata": {},
   "source": [
    "You can also strip whitespace from the left side of a string using the\n",
    "lstrip() method or strip whitespace from both sides at once using strip()"
   ]
  },
  {
   "cell_type": "code",
   "execution_count": 29,
   "id": "d10c0f76",
   "metadata": {},
   "outputs": [
    {
     "data": {
      "text/plain": [
       "'python '"
      ]
     },
     "execution_count": 29,
     "metadata": {},
     "output_type": "execute_result"
    }
   ],
   "source": [
    "favorite_language = ' python '\n",
    "favorite_language.lstrip()"
   ]
  },
  {
   "cell_type": "code",
   "execution_count": 30,
   "id": "5df0b37b",
   "metadata": {},
   "outputs": [
    {
     "data": {
      "text/plain": [
       "' python'"
      ]
     },
     "execution_count": 30,
     "metadata": {},
     "output_type": "execute_result"
    }
   ],
   "source": [
    "favorite_language.rstrip()"
   ]
  },
  {
   "cell_type": "code",
   "execution_count": 31,
   "id": "448c83ec",
   "metadata": {},
   "outputs": [
    {
     "data": {
      "text/plain": [
       "'python'"
      ]
     },
     "execution_count": 31,
     "metadata": {},
     "output_type": "execute_result"
    }
   ],
   "source": [
    "favorite_language.strip()"
   ]
  },
  {
   "cell_type": "markdown",
   "id": "d4e97893",
   "metadata": {},
   "source": [
    "### Avoiding Syntax Errors with Strings"
   ]
  },
  {
   "cell_type": "markdown",
   "id": "76c99e87",
   "metadata": {},
   "source": [
    "One kind of error that you might see with some regularity is a `syntax error`.\n",
    "A syntax error occurs when Python doesn’t recognize a section of your program as valid Python code."
   ]
  },
  {
   "cell_type": "code",
   "execution_count": 32,
   "id": "d7503489",
   "metadata": {},
   "outputs": [
    {
     "name": "stdout",
     "output_type": "stream",
     "text": [
      "One of Python's strengths is its diverse community.\n"
     ]
    }
   ],
   "source": [
    "message = \"One of Python's strengths is its diverse community.\"\n",
    "print(message)"
   ]
  },
  {
   "cell_type": "code",
   "execution_count": 33,
   "id": "f4660adb",
   "metadata": {},
   "outputs": [
    {
     "ename": "SyntaxError",
     "evalue": "invalid syntax (<ipython-input-33-a9250de55b39>, line 1)",
     "output_type": "error",
     "traceback": [
      "\u001b[0;36m  File \u001b[0;32m\"<ipython-input-33-a9250de55b39>\"\u001b[0;36m, line \u001b[0;32m1\u001b[0m\n\u001b[0;31m    message = 'One of Python's strengths is its diverse community.'\u001b[0m\n\u001b[0m                             ^\u001b[0m\n\u001b[0;31mSyntaxError\u001b[0m\u001b[0;31m:\u001b[0m invalid syntax\n"
     ]
    }
   ],
   "source": [
    "message = 'One of Python's strengths is its diverse community.'\n",
    "print(message)"
   ]
  },
  {
   "cell_type": "markdown",
   "id": "382283c4",
   "metadata": {},
   "source": [
    "### 2-3. Personal Message\n",
    "Store a person’s name in a variable, and print a message to that person. Your message should be simple, such as, “Hello Eric,\n",
    "would you like to learn some Python today?”"
   ]
  },
  {
   "cell_type": "code",
   "execution_count": 35,
   "id": "7d85f5ae",
   "metadata": {},
   "outputs": [
    {
     "name": "stdout",
     "output_type": "stream",
     "text": [
      "Hello Eric, would you like to learn some Python today?\n"
     ]
    }
   ],
   "source": [
    "name = 'Eric'\n",
    "print('Hello {}, would you like to learn some Python today?'.format(name))"
   ]
  },
  {
   "cell_type": "markdown",
   "id": "f9114dda",
   "metadata": {},
   "source": [
    "### 2-4. Name Cases\n",
    "Store a person’s name in a variable, and then print that person’s name in lowercase, uppercase, and titlecase."
   ]
  },
  {
   "cell_type": "code",
   "execution_count": 38,
   "id": "e2768240",
   "metadata": {},
   "outputs": [
    {
     "name": "stdout",
     "output_type": "stream",
     "text": [
      "Titlecase - Elon Musk!!\n",
      "Lowercase - elon musk!!\n",
      "Uppercase - ELON MUSK!!\n"
     ]
    }
   ],
   "source": [
    "name = 'elon musk!!'\n",
    "print('Titlecase - {:>10}'.format(name.title()))\n",
    "print('Lowercase - {:>10}'.format(name.lower()))\n",
    "print('Uppercase - {:>10}'.format(name.upper()))"
   ]
  },
  {
   "cell_type": "markdown",
   "id": "06e2e969",
   "metadata": {},
   "source": [
    "### 2-5. Famous Quote\n",
    "Find a quote from a famous person you admire. Print the\n",
    "quote and the name of its author. Your output should look something like the\n",
    "following, including the quotation marks:\n",
    "Albert Einstein once said, “A person who never made a\n",
    "mistake never tried anything new.”"
   ]
  },
  {
   "cell_type": "code",
   "execution_count": 39,
   "id": "4e4800aa",
   "metadata": {},
   "outputs": [
    {
     "name": "stdout",
     "output_type": "stream",
     "text": [
      "Albert Einstein once said, “A person who never made a mistake never tried anything new.”\n"
     ]
    }
   ],
   "source": [
    "quote = 'Albert Einstein once said, “A person who never made a mistake never tried anything new.”'\n",
    "print('{}'.format(quote))"
   ]
  },
  {
   "cell_type": "markdown",
   "id": "dd4a7ed6",
   "metadata": {},
   "source": [
    "### 2-6. Famous Quote 2\n",
    "Repeat Exercise 2-5, but this time store the famous person’s name in a variable called famous_person. Then compose your message\n",
    "and store it in a new variable called message. Print your message."
   ]
  },
  {
   "cell_type": "code",
   "execution_count": 40,
   "id": "e93f80c6",
   "metadata": {},
   "outputs": [
    {
     "name": "stdout",
     "output_type": "stream",
     "text": [
      "Albert Einstein once said, “A person who never made a mistake never tried anything new.”\n"
     ]
    }
   ],
   "source": [
    "famous_name = 'Albert Einstein'\n",
    "message = '{} once said, “A person who never made a mistake never tried anything new.”'.format(famous_name)\n",
    "print('{}'.format(message))"
   ]
  },
  {
   "cell_type": "markdown",
   "id": "a7a5ac99",
   "metadata": {},
   "source": [
    "### 2-7. Stripping Names\n",
    "Store a person’s name, and include some whitespace\n",
    "characters at the beginning and end of the name. Make sure you use each\n",
    "character combination, \"\\t\" and \"\\n\", at least once.\n",
    "Print the name once, so the whitespace around the name is displayed.\n",
    "Then print the name using each of the three stripping functions, lstrip(),\n",
    "rstrip(), and strip()."
   ]
  },
  {
   "cell_type": "code",
   "execution_count": 41,
   "id": "919b0180",
   "metadata": {},
   "outputs": [
    {
     "data": {
      "text/plain": [
       "'   elon musk   '"
      ]
     },
     "execution_count": 41,
     "metadata": {},
     "output_type": "execute_result"
    }
   ],
   "source": [
    "name = '   elon musk   '\n",
    "name"
   ]
  },
  {
   "cell_type": "code",
   "execution_count": 43,
   "id": "d04274b3",
   "metadata": {},
   "outputs": [
    {
     "data": {
      "text/plain": [
       "'elon musk   '"
      ]
     },
     "execution_count": 43,
     "metadata": {},
     "output_type": "execute_result"
    }
   ],
   "source": [
    "name.lstrip()"
   ]
  },
  {
   "cell_type": "code",
   "execution_count": 44,
   "id": "0be02a91",
   "metadata": {},
   "outputs": [
    {
     "data": {
      "text/plain": [
       "'   elon musk'"
      ]
     },
     "execution_count": 44,
     "metadata": {},
     "output_type": "execute_result"
    }
   ],
   "source": [
    "name.rstrip()"
   ]
  },
  {
   "cell_type": "code",
   "execution_count": 45,
   "id": "e852d399",
   "metadata": {},
   "outputs": [
    {
     "data": {
      "text/plain": [
       "'elon musk'"
      ]
     },
     "execution_count": 45,
     "metadata": {},
     "output_type": "execute_result"
    }
   ],
   "source": [
    "name.strip()"
   ]
  },
  {
   "cell_type": "markdown",
   "id": "a17e84aa",
   "metadata": {},
   "source": [
    "# Numbers"
   ]
  },
  {
   "cell_type": "markdown",
   "id": "963ef94e",
   "metadata": {},
   "source": [
    "Numbers are used quite often in programming to keep score in games, represent data in visualizations, store information in web applications, and so\n",
    "on. Python treats numbers in several different ways, depending on how they\n",
    "are being used."
   ]
  },
  {
   "cell_type": "markdown",
   "id": "d9891341",
   "metadata": {},
   "source": [
    "### Integers\n",
    "You can add **(+)**, subtract **(-)**, multiply **(*)**, and divide **(/)** integers in Python. "
   ]
  },
  {
   "cell_type": "code",
   "execution_count": 46,
   "id": "40d50011",
   "metadata": {},
   "outputs": [
    {
     "data": {
      "text/plain": [
       "5"
      ]
     },
     "execution_count": 46,
     "metadata": {},
     "output_type": "execute_result"
    }
   ],
   "source": [
    "2 + 3"
   ]
  },
  {
   "cell_type": "code",
   "execution_count": 47,
   "id": "b9f9f7be",
   "metadata": {},
   "outputs": [
    {
     "data": {
      "text/plain": [
       "1"
      ]
     },
     "execution_count": 47,
     "metadata": {},
     "output_type": "execute_result"
    }
   ],
   "source": [
    "3 - 2"
   ]
  },
  {
   "cell_type": "code",
   "execution_count": 48,
   "id": "4df17ee6",
   "metadata": {},
   "outputs": [
    {
     "data": {
      "text/plain": [
       "6"
      ]
     },
     "execution_count": 48,
     "metadata": {},
     "output_type": "execute_result"
    }
   ],
   "source": [
    "2 * 3"
   ]
  },
  {
   "cell_type": "code",
   "execution_count": 52,
   "id": "8943803c",
   "metadata": {},
   "outputs": [
    {
     "data": {
      "text/plain": [
       "1.5"
      ]
     },
     "execution_count": 52,
     "metadata": {},
     "output_type": "execute_result"
    }
   ],
   "source": [
    "3 / 2 #this return quotient"
   ]
  },
  {
   "cell_type": "markdown",
   "id": "f3d325e8",
   "metadata": {},
   "source": [
    "In a terminal session, Python simply returns the result of the operation.\n",
    "Python uses two multiplication symbols to represent exponents:"
   ]
  },
  {
   "cell_type": "code",
   "execution_count": 53,
   "id": "ea2402a5",
   "metadata": {},
   "outputs": [
    {
     "data": {
      "text/plain": [
       "8"
      ]
     },
     "execution_count": 53,
     "metadata": {},
     "output_type": "execute_result"
    }
   ],
   "source": [
    "2 ** 3 "
   ]
  },
  {
   "cell_type": "markdown",
   "id": "6c9d5eb2",
   "metadata": {},
   "source": [
    "### Floats"
   ]
  },
  {
   "cell_type": "markdown",
   "id": "e8a1b688",
   "metadata": {},
   "source": [
    "Python calls any number with a decimal point a float. This term is used in\n",
    "most programming languages, and it refers to the fact that a decimal point\n",
    "can appear at any position in a number."
   ]
  },
  {
   "cell_type": "code",
   "execution_count": 79,
   "id": "e877f0c9",
   "metadata": {},
   "outputs": [
    {
     "name": "stdout",
     "output_type": "stream",
     "text": [
      "0.30000000000000004\n",
      "0.4\n",
      "0.2\n",
      "0.4\n"
     ]
    }
   ],
   "source": [
    "print(0.1 + 0.2)\n",
    "print(0.2 + 0.2)\n",
    "print(2 * 0.1)\n",
    "print( 2 * 0.2 )"
   ]
  },
  {
   "cell_type": "code",
   "execution_count": 64,
   "id": "de12d144",
   "metadata": {},
   "outputs": [
    {
     "name": "stdout",
     "output_type": "stream",
     "text": [
      "0.30000000000000004\n",
      "0.30000000000000004\n"
     ]
    }
   ],
   "source": [
    "print(0.2 + 0.1)\n",
    "print(3 * 0.1)"
   ]
  },
  {
   "cell_type": "markdown",
   "id": "09071996",
   "metadata": {},
   "source": [
    "## Avoiding Type Errors with the str() Function"
   ]
  },
  {
   "cell_type": "code",
   "execution_count": 67,
   "id": "84bf05cf",
   "metadata": {},
   "outputs": [
    {
     "ename": "TypeError",
     "evalue": "can only concatenate str (not \"int\") to str",
     "output_type": "error",
     "traceback": [
      "\u001b[0;31m---------------------------------------------------------------------------\u001b[0m",
      "\u001b[0;31mTypeError\u001b[0m                                 Traceback (most recent call last)",
      "\u001b[0;32m<ipython-input-67-80a141e301d6>\u001b[0m in \u001b[0;36m<module>\u001b[0;34m\u001b[0m\n\u001b[1;32m      1\u001b[0m \u001b[0mage\u001b[0m \u001b[0;34m=\u001b[0m \u001b[0;36m23\u001b[0m\u001b[0;34m\u001b[0m\u001b[0;34m\u001b[0m\u001b[0m\n\u001b[0;32m----> 2\u001b[0;31m \u001b[0mmessage\u001b[0m \u001b[0;34m=\u001b[0m \u001b[0;34m\"Happy \"\u001b[0m \u001b[0;34m+\u001b[0m \u001b[0mage\u001b[0m \u001b[0;34m+\u001b[0m \u001b[0;34m\"rd Birthday!\"\u001b[0m\u001b[0;34m\u001b[0m\u001b[0;34m\u001b[0m\u001b[0m\n\u001b[0m\u001b[1;32m      3\u001b[0m \u001b[0mprint\u001b[0m\u001b[0;34m(\u001b[0m\u001b[0mmessage\u001b[0m\u001b[0;34m)\u001b[0m\u001b[0;34m\u001b[0m\u001b[0;34m\u001b[0m\u001b[0m\n",
      "\u001b[0;31mTypeError\u001b[0m: can only concatenate str (not \"int\") to str"
     ]
    }
   ],
   "source": [
    "age = 23\n",
    "message = \"Happy \" + age + \"rd Birthday!\"\n",
    "print(message)"
   ]
  },
  {
   "cell_type": "code",
   "execution_count": 68,
   "id": "da4c15b0",
   "metadata": {},
   "outputs": [
    {
     "name": "stdout",
     "output_type": "stream",
     "text": [
      "Happy 23rd Birthday!\n"
     ]
    }
   ],
   "source": [
    "age = 23\n",
    "message = \"Happy \" + str(age) + \"rd Birthday!\"\n",
    "print(message)"
   ]
  },
  {
   "cell_type": "code",
   "execution_count": 66,
   "id": "3b04f607",
   "metadata": {},
   "outputs": [
    {
     "name": "stdout",
     "output_type": "stream",
     "text": [
      "Happy 23rd Birthday!!\n"
     ]
    }
   ],
   "source": [
    "age = 23\n",
    "print('{} {}rd Birthday!!'.format('Happy', age))"
   ]
  },
  {
   "cell_type": "code",
   "execution_count": 69,
   "id": "37e6b1bc",
   "metadata": {},
   "outputs": [
    {
     "name": "stdout",
     "output_type": "stream",
     "text": [
      "The Zen of Python, by Tim Peters\n",
      "\n",
      "Beautiful is better than ugly.\n",
      "Explicit is better than implicit.\n",
      "Simple is better than complex.\n",
      "Complex is better than complicated.\n",
      "Flat is better than nested.\n",
      "Sparse is better than dense.\n",
      "Readability counts.\n",
      "Special cases aren't special enough to break the rules.\n",
      "Although practicality beats purity.\n",
      "Errors should never pass silently.\n",
      "Unless explicitly silenced.\n",
      "In the face of ambiguity, refuse the temptation to guess.\n",
      "There should be one-- and preferably only one --obvious way to do it.\n",
      "Although that way may not be obvious at first unless you're Dutch.\n",
      "Now is better than never.\n",
      "Although never is often better than *right* now.\n",
      "If the implementation is hard to explain, it's a bad idea.\n",
      "If the implementation is easy to explain, it may be a good idea.\n",
      "Namespaces are one honking great idea -- let's do more of those!\n"
     ]
    }
   ],
   "source": [
    "import this"
   ]
  }
 ],
 "metadata": {
  "kernelspec": {
   "display_name": "Python 3",
   "language": "python",
   "name": "python3"
  },
  "language_info": {
   "codemirror_mode": {
    "name": "ipython",
    "version": 3
   },
   "file_extension": ".py",
   "mimetype": "text/x-python",
   "name": "python",
   "nbconvert_exporter": "python",
   "pygments_lexer": "ipython3",
   "version": "3.7.7"
  }
 },
 "nbformat": 4,
 "nbformat_minor": 5
}
