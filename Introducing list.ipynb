{
 "cells": [
  {
   "cell_type": "code",
   "execution_count": 2,
   "id": "2f9b6b47",
   "metadata": {},
   "outputs": [
    {
     "name": "stdout",
     "output_type": "stream",
     "text": [
      "['trek', 'cannondale', 'redline', 'specialized']\n"
     ]
    }
   ],
   "source": [
    "bicycles = ['trek', 'cannondale', 'redline', 'specialized']\n",
    "print(bicycles)"
   ]
  },
  {
   "cell_type": "markdown",
   "id": "882c552a",
   "metadata": {},
   "source": [
    "# Accessing Elements in a List"
   ]
  },
  {
   "cell_type": "code",
   "execution_count": 4,
   "id": "f20e7129",
   "metadata": {},
   "outputs": [
    {
     "name": "stdout",
     "output_type": "stream",
     "text": [
      "Trek\n"
     ]
    }
   ],
   "source": [
    "print(bicycles[0].title())"
   ]
  },
  {
   "cell_type": "markdown",
   "id": "7e1c00a3",
   "metadata": {},
   "source": [
    "# Index Positions Start at 0, Not 1"
   ]
  },
  {
   "cell_type": "code",
   "execution_count": 6,
   "id": "78fc2d0d",
   "metadata": {},
   "outputs": [
    {
     "name": "stdout",
     "output_type": "stream",
     "text": [
      "cannondale\n",
      "specialized\n"
     ]
    }
   ],
   "source": [
    "bicycles = ['trek', 'cannondale', 'redline', 'specialized']\n",
    "print(bicycles[1])\n",
    "print(bicycles[3])"
   ]
  },
  {
   "cell_type": "markdown",
   "id": "2bda27db",
   "metadata": {},
   "source": [
    "# Using Individual Values from a List"
   ]
  },
  {
   "cell_type": "code",
   "execution_count": 8,
   "id": "2c028c05",
   "metadata": {},
   "outputs": [
    {
     "name": "stdout",
     "output_type": "stream",
     "text": [
      "My first bicycle was a Trek.\n"
     ]
    }
   ],
   "source": [
    "message = \"My first bicycle was a \" + bicycles[0].title() + \".\"\n",
    "print(message)"
   ]
  },
  {
   "cell_type": "markdown",
   "id": "40588cca",
   "metadata": {},
   "source": [
    "## 3-1. \n",
    "Names: Store the names of a few of your friends in a list called names . Print each person’s name by accessing each element in the list, one at a time ."
   ]
  },
  {
   "cell_type": "code",
   "execution_count": 9,
   "id": "d9287839",
   "metadata": {},
   "outputs": [
    {
     "name": "stdout",
     "output_type": "stream",
     "text": [
      "Ram\n",
      "Tippu\n",
      "Veer\n"
     ]
    }
   ],
   "source": [
    "names = ['Ram', 'tippu', 'veer']\n",
    "print(names[0].title())\n",
    "print(names[1].title())\n",
    "print(names[2].title())"
   ]
  },
  {
   "cell_type": "markdown",
   "id": "9c85af15",
   "metadata": {},
   "source": [
    "## 3-2. \n",
    "Greetings: Start with the list you used in Exercise 3-1, but instead of just printing each person’s name, print a message to them . The text of each mes- sage should be the same, but each message should be personalized with the person’s name ."
   ]
  },
  {
   "cell_type": "code",
   "execution_count": 13,
   "id": "6f989708",
   "metadata": {},
   "outputs": [
    {
     "name": "stdout",
     "output_type": "stream",
     "text": [
      "Greeting Tippu !!\n"
     ]
    }
   ],
   "source": [
    "print('Greeting {} !!'.format(names[1].title()))"
   ]
  },
  {
   "cell_type": "markdown",
   "id": "5c492b88",
   "metadata": {},
   "source": [
    "## 3-3. \n",
    "Your Own List: Think of your favorite mode of transportation, such as a motorcycle or a car, and make a list that stores several examples . Use your list to print a series of statements about these items, such as “I would like to own a Honda motorcycle .”"
   ]
  },
  {
   "cell_type": "code",
   "execution_count": 12,
   "id": "5e69f827",
   "metadata": {},
   "outputs": [
    {
     "name": "stdout",
     "output_type": "stream",
     "text": [
      "I would like to own a Honda motorcycle\n"
     ]
    }
   ],
   "source": [
    "motorcars = ['Tesla', 'Honda', 'Tata']\n",
    "print('I would like to own a {} motorcycle'.format(motorcars[1]))"
   ]
  },
  {
   "cell_type": "markdown",
   "id": "194ee952",
   "metadata": {},
   "source": [
    "# Changing, adding, and removing elements"
   ]
  }
 ],
 "metadata": {
  "kernelspec": {
   "display_name": "Python 3",
   "language": "python",
   "name": "python3"
  },
  "language_info": {
   "codemirror_mode": {
    "name": "ipython",
    "version": 3
   },
   "file_extension": ".py",
   "mimetype": "text/x-python",
   "name": "python",
   "nbconvert_exporter": "python",
   "pygments_lexer": "ipython3",
   "version": "3.7.7"
  }
 },
 "nbformat": 4,
 "nbformat_minor": 5
}
